{
 "cells": [
  {
   "cell_type": "code",
   "execution_count": 1,
   "metadata": {
    "collapsed": false
   },
   "outputs": [],
   "source": [
    "import sys\n",
    "sys.path.insert(0, '../../data_creation/reg')\n",
    "\n",
    "import psycopg2\n",
    "from pandas import DataFrame\n",
    "\n",
    "import os\n",
    "\n",
    "HOST = os.environ.get(\"HOST\")\n",
    "USER = os.environ.get(\"USER\")\n",
    "PASSWORD = os.environ.get(\"PASSWORD\")\n",
    "DB = os.environ.get(\"DB\")\n",
    "\n",
    "conn = psycopg2.connect( host=HOST, user=USER, password=PASSWORD, dbname=DB )\n",
    "cur = conn.cursor()\n",
    "#open sql file to run\n",
    "queryfile=open('../../data_creation/districts_for_sc_reg.sql', 'r')\n",
    "query = queryfile.read()\n",
    "queryfile.close()\n",
    "cur.execute(query)\n",
    "names = [ x[0] for x in cur.description]\n",
    "rows = cur.fetchall()\n",
    "districts_for_sc_reg = DataFrame( rows, columns=names)\n",
    "cur.close()\n",
    "conn.close()\n",
    "\n",
    "\n",
    "districts_for_sc_reg.head()\n",
    "\n",
    "districts_for_sc_reg.round(2)\n",
    "\n",
    "if not os.path.exists(os.path.dirname('../../../data/interim/reg/')):\n",
    "    try:\n",
    "        os.makedirs(os.path.dirname('../../../data/interim/reg/'))\n",
    "    except OSError as exc: # Guard against race condition\n",
    "        if exc.errno != errno.EEXIST:\n",
    "            raise\n",
    "\n",
    "districts_for_sc_reg.to_csv('../../../data/interim/reg/districts_for_sc_reg.csv')\n",
    "\n",
    "districts_for_sc_reg_clean = districts_for_sc_reg.loc[districts_for_sc_reg['exclude_from_ia_analysis'] == False]\n",
    "districts_for_sc_reg_clean = districts_for_sc_reg_clean.loc[districts_for_sc_reg_clean['exclude_from_ia_cost_analysis'] == False]\n",
    "districts_for_sc_reg_clean.to_csv('../../../data/interim/reg/districts_for_sc_reg_clean.csv')\n",
    "\n",
    "#will run only if using ipython notebook\n",
    "sys.path.append(os.path.abspath('/Users/sierra/Documents/ESH/ficher/General_Resources/common_functions'))\n",
    "import __main__ as main\n",
    "import ipynb_convert \n",
    "ipynb_convert.executeConvertNotebook('import_districts.ipynb','import_districts_qa.py',main)"
   ]
  }
 ],
 "metadata": {
  "kernelspec": {
   "display_name": "Python 2",
   "language": "python",
   "name": "python2"
  },
  "language_info": {
   "codemirror_mode": {
    "name": "ipython",
    "version": 2
   },
   "file_extension": ".py",
   "mimetype": "text/x-python",
   "name": "python",
   "nbconvert_exporter": "python",
   "pygments_lexer": "ipython2",
   "version": "2.7.13"
  }
 },
 "nbformat": 4,
 "nbformat_minor": 2
}
